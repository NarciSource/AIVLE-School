{
 "cells": [
  {
   "cell_type": "markdown",
   "id": "boxed-jamaica",
   "metadata": {},
   "source": [
    "## AIVLE School [AI 미니프로젝트] '서울시 생활정보 기반 대중교통 수요 분석'<br>"
   ]
  },
  {
   "cell_type": "markdown",
   "id": "ef575059",
   "metadata": {},
   "source": [
    "---"
   ]
  },
  {
   "cell_type": "markdown",
   "id": "34240df3-be29-4343-b516-a37b52d7f813",
   "metadata": {},
   "source": [
    "# 2. 구 별 이동인구 분석\n",
    "### 서울시 생활이동 정보를 기반으로 서울시 자치구 별 이동인구를 분석합니다"
   ]
  },
  {
   "cell_type": "code",
   "execution_count": null,
   "id": "4c6ced42",
   "metadata": {},
   "outputs": [],
   "source": [
    "# 필요 라이브러리를 설치합니다.\n",
    "%pip install pandas seaborn"
   ]
  },
  {
   "cell_type": "markdown",
   "id": "revolutionary-farmer",
   "metadata": {},
   "source": [
    "## 데이터 안내\n",
    "\n",
    "[데이터 파일명]\n",
    "* 2. seoul_moving.csv\n",
    "\n",
    "[데이터 정보]\n",
    "* 서울 시 구별 이동 2022년 4월 데이터\n",
    "\n",
    "[데이터 컬럼 정보]\n",
    "* 도착시간 : 0 -> \"0:00~0:59\"를 의미 \n",
    "* 출발 자치구 : 자치구 코드\n",
    "* 성별 : F(여성), M(남성)\n",
    "* 나이 : 10 ~ 79세 (5세 단위), 0 ~ 10세, 80세 이상으로 구분\n",
    "* 유형 : H(야간상주지), W(주간상주지), E(기타)\n",
    "* 평균 이동 시간 : 동일 열 내 이동인구의 월 단위 평균 이동 시간 (10분단위)\n",
    "* 이동인구 : 추정 합산값으로 소수점 표출, 개인정보 비식별화를 위해 3명 미만(0~3)의 경우 * 처리"
   ]
  },
  {
   "cell_type": "markdown",
   "id": "matched-broad",
   "metadata": {},
   "source": [
    "---"
   ]
  },
  {
   "cell_type": "markdown",
   "id": "warming-gentleman",
   "metadata": {},
   "source": [
    "# 2.1.데이터 불러오기"
   ]
  },
  {
   "cell_type": "markdown",
   "id": "d666c823-584d-46bb-a426-0f46e52cd9bc",
   "metadata": {},
   "source": [
    "#### [2.1.1] 데이터 로딩\n",
    "* Pandas 라이브러리를 활용해서 '2. seoul_moving.csv'파일을 'seoul_moving' 변수에 저장하세요.\n",
    "    * 데이터 파일 로딩시 참고 사항 \n",
    "        * 구분자(sep)는 ',' 입니다\n",
    "        * UTF-8 인코더를 사용해 주세요\n",
    "        * index column은 0번 열 입니다\n",
    "    * 데이터를 불러올 때 오류가 발생한다면, 오류에 대해 직접 검색하여 해결해보세요."
   ]
  },
  {
   "cell_type": "code",
   "execution_count": null,
   "id": "saving-slope",
   "metadata": {},
   "outputs": [],
   "source": [
    "# 아래에 코드를 작성하고 결과를 확인합니다.\n"
   ]
  },
  {
   "cell_type": "code",
   "execution_count": null,
   "id": "funny-subcommittee",
   "metadata": {},
   "outputs": [],
   "source": [
    "# 데이터 프레임의 Shape을 확인합니다.\n"
   ]
  },
  {
   "cell_type": "markdown",
   "id": "73396b42",
   "metadata": {},
   "source": [
    "---"
   ]
  },
  {
   "cell_type": "markdown",
   "id": "annoying-trout",
   "metadata": {},
   "source": [
    "# 2.2.기본 정보 확인 및 클렌징\n",
    "\n",
    "+ 데이터 클렌징 : 결측치, 이상치 등을 제거하여 데이터 분석 결과가 왜곡 되는 문제를 방지하기 위한 정제 과정"
   ]
  },
  {
   "cell_type": "markdown",
   "id": "9399679e-6a75-4719-b1f5-d05090bc6f6c",
   "metadata": {},
   "source": [
    "#### [2.2.1] 기본 정보 확인하기\n",
    "* 'seoul_moving' 데이터의 정보를 확인해보세요.\n",
    "* 'describe', 'info', 'head', 'tail' 등 전부 활용해 보세요."
   ]
  },
  {
   "cell_type": "code",
   "execution_count": null,
   "id": "demographic-battery",
   "metadata": {},
   "outputs": [],
   "source": [
    "# 아래에 코드를 작성하고 결과를 확인합니다.\n"
   ]
  },
  {
   "cell_type": "code",
   "execution_count": null,
   "id": "940a114a",
   "metadata": {},
   "outputs": [],
   "source": [
    "# 아래에 코드를 작성하고 결과를 확인합니다.\n"
   ]
  },
  {
   "cell_type": "code",
   "execution_count": null,
   "id": "7343fadf",
   "metadata": {},
   "outputs": [],
   "source": [
    "# 아래에 코드를 작성하고 결과를 확인합니다.\n"
   ]
  },
  {
   "cell_type": "code",
   "execution_count": null,
   "id": "91ee0f86-3171-4180-8bb9-c86d83daed94",
   "metadata": {},
   "outputs": [],
   "source": [
    "# 아래에 코드를 작성하고 결과를 확인합니다.\n"
   ]
  },
  {
   "cell_type": "markdown",
   "id": "b90fd066",
   "metadata": {},
   "source": [
    "* [참고] 1번 열의 의미\n",
    "    * \" 2022년 4월 일요일에 11010(종로구)에서 11010(종로구)으로 이동하여 0시 ~ 0시 59분 사이에 도착했고, E(기타)에서 H(야간상주지(집))으로 이동한 0 ~ 10세 여성은 총 27.52명이며 이들의 평균 이동시간은 10분이다"
   ]
  },
  {
   "cell_type": "markdown",
   "id": "003322b3",
   "metadata": {},
   "source": [
    "#### [2.2.2] 결측치 처리 (NaN이 아닌 결측치 처리)\n",
    "\n",
    "* '이동인구(합)' column은 이동 인구의 합산인데 숫자가 아닌 object 타입입니다. \n",
    "\n",
    "    - 왜 일까요? \n",
    "\n",
    "    - Tip! (이동인구 : 추정 합산값으로 소수점 표출, 개인정보 비식별화를 위해 3명 미만 즉, 값이 0~3일 경우 별표 * 처리)\n",
    "\n",
    "    - 해당 값을 어떻게 처리하는 것이 좋을 지 생각해보아서 각자의 방법으로 변경하세요\n",
    "\n",
    "    - '인구이동(합)' 컬럼의 데이터 타입을 수치형으로 변경하세요 "
   ]
  },
  {
   "cell_type": "code",
   "execution_count": null,
   "id": "64977ed3",
   "metadata": {},
   "outputs": [],
   "source": [
    "# 이동인구(합) 컬럼의 값 별로 개수를 세어봅니다.\n"
   ]
  },
  {
   "cell_type": "code",
   "execution_count": null,
   "id": "703fc8b7",
   "metadata": {},
   "outputs": [],
   "source": [
    "# 별표(*)로 표현된 값을 대체합니다.\n",
    "# 해당 값을 어떻게 처리하는 것이 좋을 지 생각해보아서 각자의 방법으로 변경하세요\n",
    "#(ex: 최빈값, 평균값도 알 수 없으므로 0~3의 중위값인 1.5로 대체)\n"
   ]
  },
  {
   "cell_type": "code",
   "execution_count": null,
   "id": "eefe243e",
   "metadata": {},
   "outputs": [],
   "source": [
    "# 이동인구(합) 컬럼의 값 별로 개수를 다시 세어봅니다.\n"
   ]
  },
  {
   "cell_type": "code",
   "execution_count": null,
   "id": "3ec3c54b",
   "metadata": {},
   "outputs": [],
   "source": [
    "# 이제 이동인구(합) column의 데이터 타입을 바꿔주세요\n",
    "\n"
   ]
  },
  {
   "cell_type": "markdown",
   "id": "3666e46c",
   "metadata": {},
   "source": [
    "#### [2.2.3] 이동유형, 요일, 성별 변수의 value수 파악"
   ]
  },
  {
   "cell_type": "code",
   "execution_count": null,
   "id": "3cd0103e",
   "metadata": {},
   "outputs": [],
   "source": [
    "# 이동유형 컬럼의 값 별로 개수를 세어봅니다.\n",
    "# H(야간상주지), W(주간상주지), E(기타)\n"
   ]
  },
  {
   "cell_type": "code",
   "execution_count": null,
   "id": "1cdd246f",
   "metadata": {},
   "outputs": [],
   "source": [
    "# 요일 컬럼의 값 별로 개수를 세어봅니다.\n"
   ]
  },
  {
   "cell_type": "markdown",
   "id": "ba257395",
   "metadata": {},
   "source": [
    "* [참고] 2022년 4월의 요일 수는 다음과 같습니다.\n",
    "    * 일 : 4, 월 : 4, 화 : 4, 수 : 4, 목 : 4, 금 : 5, 토 : 5"
   ]
  },
  {
   "cell_type": "code",
   "execution_count": null,
   "id": "c3f440b9",
   "metadata": {},
   "outputs": [],
   "source": [
    "# 성별 컬럼의 값 별로 개수를 세어봅니다.\n",
    "\n"
   ]
  },
  {
   "cell_type": "markdown",
   "id": "6356b00c",
   "metadata": {},
   "source": [
    "#### [2.2.4] 심야 이동이 가장 많은 요일 확인"
   ]
  },
  {
   "cell_type": "code",
   "execution_count": null,
   "id": "470c3d5d",
   "metadata": {},
   "outputs": [],
   "source": [
    "# 아래에 코드를 작성하고 결과를 확인합니다.\n",
    "# 심야시간은 0:00~ 4:59\n",
    "\n"
   ]
  },
  {
   "cell_type": "markdown",
   "id": "45594fc1",
   "metadata": {},
   "source": [
    "#### [2.2.5] 서울 지역의 데이터만 추출\n",
    "\n",
    "* 서울시의 데이터만 필요하므로 출발과 도착이 모두 서울인 데이터만 추출하세요.\n",
    "* 아래 사이트에서 서울시 데이터만 추출하기 위해 필요한 정보를 탐색해보세요. (ex. 자치구 코드 정보)\n",
    "https://data.seoul.go.kr/dataVisual/seoul/seoulLivingMigration.do"
   ]
  },
  {
   "cell_type": "code",
   "execution_count": null,
   "id": "fab14a50",
   "metadata": {},
   "outputs": [],
   "source": [
    "# 출발 시군구 코드, 도착 시군구 코드 활용하여 출발과 도착이 모두 서울인 데이터만 추출해보세요.\n",
    "\n"
   ]
  },
  {
   "cell_type": "markdown",
   "id": "e968a0ae",
   "metadata": {},
   "source": [
    "#### [2.2.6] 서울지역의 구 별로 groupby하여 데이터를 확인해보세요. (유동인구 기준)\n",
    "\n",
    "* 유출이 제일 많은 구는?\n",
    "\n",
    "* 유입이 제일 많은 구는?\n",
    "\n",
    "* 유출이 제일 적은 구는?\n",
    "\n",
    "* 유입이 제일 적은 구는?"
   ]
  },
  {
   "cell_type": "markdown",
   "id": "ab98b422",
   "metadata": {},
   "source": [
    "* [참고] 서울 구별 코드\n",
    "    * 11010\t종로구\n",
    "    * 11020\t중구\n",
    "    * 11030\t용산구\n",
    "    * 11040\t성동구\n",
    "    * 11050\t광진구\n",
    "    * 11060\t동대문구\n",
    "    * 11070\t중랑구\n",
    "    * 11080\t성북구\n",
    "    * 11090\t강북구\n",
    "    * 11100\t도봉구\n",
    "    * 11110\t노원구\n",
    "    * 11120\t은평구\n",
    "    * 11130\t서대문구\n",
    "    * 11140\t마포구\n",
    "    * 11150\t양천구\n",
    "    * 11160\t강서구\n",
    "    * 11170\t구로구\n",
    "    * 11180\t금천구\n",
    "    * 11190\t영등포구\n",
    "    * 11200\t동작구\n",
    "    * 11210\t관악구\n",
    "    * 11220\t서초구\n",
    "    * 11230\t강남구\n",
    "    * 11240\t송파구\n",
    "    * 11250\t강동구"
   ]
  },
  {
   "cell_type": "code",
   "execution_count": null,
   "id": "38564819",
   "metadata": {},
   "outputs": [],
   "source": [
    "# 아래에 코드를 작성하고 결과를 확인합니다.\n",
    "\n"
   ]
  },
  {
   "cell_type": "code",
   "execution_count": null,
   "id": "5b74bb6d",
   "metadata": {},
   "outputs": [],
   "source": [
    "# 아래에 코드를 작성하고 결과를 확인합니다.\n",
    "\n"
   ]
  },
  {
   "cell_type": "markdown",
   "id": "1ace49d0",
   "metadata": {},
   "source": [
    "#### [2.2.7] 낮시간만 분석 대상에 넣기 위해 심야버스 제외\n",
    "\n",
    "* 도착시간 0부터 4까지(0:00 ~ 4:59) 제거"
   ]
  },
  {
   "cell_type": "code",
   "execution_count": null,
   "id": "d54050e1",
   "metadata": {},
   "outputs": [],
   "source": [
    "# 아래에 코드를 작성하고 결과를 확인합니다.\n",
    "\n"
   ]
  },
  {
   "cell_type": "markdown",
   "id": "bff8a6d6",
   "metadata": {},
   "source": [
    "#### [2.2.8] '도착 시군구 코드' 를 기준으로 각 구별로 '평균 이동 시간(분)' , '이동인구(합)' 의 평균과 합 도출\n",
    "\n",
    "* groupby 사용, as_index=False로 설정해주세요"
   ]
  },
  {
   "cell_type": "code",
   "execution_count": null,
   "id": "7783e416",
   "metadata": {},
   "outputs": [],
   "source": [
    "# '도착 시군구 코드' 를 기준으로 각 구별로 '평균 이동 시간(분)', '이동인구(합)'의 평균을 도출하여 seoul_moving_mean에 저장\n",
    "\n"
   ]
  },
  {
   "cell_type": "code",
   "execution_count": null,
   "id": "86bd27f5",
   "metadata": {},
   "outputs": [],
   "source": [
    "# '도착 시군구 코드' 를 기준으로 각 구별로 '평균 이동 시간(분)', '이동인구(합)'의 합을 도출하여 seoul_moving_sum에 저장\n",
    "\n"
   ]
  },
  {
   "cell_type": "code",
   "execution_count": null,
   "id": "baa867ac",
   "metadata": {},
   "outputs": [],
   "source": [
    "# 필요에 따라 column명을 데이터 의미에 맞게 적절히 변경하세요.\n"
   ]
  },
  {
   "cell_type": "code",
   "execution_count": null,
   "id": "cb213b3a",
   "metadata": {},
   "outputs": [],
   "source": [
    "# seoul_moving_mean, seoul_moving_sum을 합쳐보세요.\n"
   ]
  },
  {
   "cell_type": "code",
   "execution_count": null,
   "id": "b7389d07",
   "metadata": {},
   "outputs": [],
   "source": [
    "# 해당 데이터프레임을 'df_seoul_moving.csv' 파일로 저장하세요\n"
   ]
  },
  {
   "cell_type": "markdown",
   "id": "602b8bae",
   "metadata": {},
   "source": [
    "---"
   ]
  },
  {
   "cell_type": "markdown",
   "id": "1599e31e-5d5e-41fd-b219-9e129872ecdc",
   "metadata": {},
   "source": [
    "# 2.3.데이터 분석하기\n",
    "+ 데이터의 형태를 살펴보고 다양한 분석기법을 통해 모델링에 적합하도록 정제요소를 선별하세요.\n",
    "  * 데이터들의 패턴 탐색\n",
    "  * 변수들간의 관계 파악"
   ]
  },
  {
   "cell_type": "code",
   "execution_count": null,
   "id": "194ae01d",
   "metadata": {},
   "outputs": [],
   "source": [
    "import seaborn as sns\n",
    "import matplotlib.pyplot as plt\n",
    "\n",
    "# 시각화 한글폰트 설정\n",
    "# 맑은 고딕\n",
    "\n",
    "plt.rc('font', family='Malgun Gothic')\n",
    "sns.set(font=\"Malgun Gothic\",#\"NanumGothicCoding\", \n",
    "        rc={\"axes.unicode_minus\":False}, # 마이너스 부호 깨짐 현상 해결\n",
    "        style='darkgrid')\n",
    "\n",
    "# scipy\n",
    "import scipy.stats as spst"
   ]
  },
  {
   "cell_type": "markdown",
   "id": "material-complex",
   "metadata": {},
   "source": [
    "#### [2.3.1] 데이터 분포 알아보기\n",
    "* 다양한 변수를 기준으로 그래프를 그려보고 인사이트를 도출해보세요."
   ]
  },
  {
   "cell_type": "code",
   "execution_count": null,
   "id": "2a610ade",
   "metadata": {},
   "outputs": [],
   "source": [
    "# 아래에 코드를 작성하고 결과를 확인합니다.\n"
   ]
  },
  {
   "cell_type": "code",
   "execution_count": null,
   "id": "ce0af14b",
   "metadata": {},
   "outputs": [],
   "source": [
    "# 아래에 코드를 작성하고 결과를 확인합니다."
   ]
  },
  {
   "cell_type": "code",
   "execution_count": null,
   "id": "8cc4598f",
   "metadata": {},
   "outputs": [],
   "source": [
    "# 아래에 코드를 작성하고 결과를 확인합니다."
   ]
  },
  {
   "cell_type": "code",
   "execution_count": null,
   "id": "a360d86c",
   "metadata": {},
   "outputs": [],
   "source": [
    "# 위 차트를 통해 알게된 사실을 정리해봅시다.\n",
    "# 1. \n",
    "# 2.\n",
    "# 3."
   ]
  },
  {
   "cell_type": "markdown",
   "id": "ca567b34",
   "metadata": {},
   "source": [
    "---"
   ]
  }
 ],
 "metadata": {
  "kernelspec": {
   "display_name": "Python 3 (ipykernel)",
   "language": "python",
   "name": "python3"
  },
  "language_info": {
   "codemirror_mode": {
    "name": "ipython",
    "version": 3
   },
   "file_extension": ".py",
   "mimetype": "text/x-python",
   "name": "python",
   "nbconvert_exporter": "python",
   "pygments_lexer": "ipython3",
   "version": "3.10.9"
  },
  "vscode": {
   "interpreter": {
    "hash": "f08154012ddadd8e950e6e9e035c7a7b32c136e7647e9b7c77e02eb723a8bedb"
   }
  }
 },
 "nbformat": 4,
 "nbformat_minor": 5
}
